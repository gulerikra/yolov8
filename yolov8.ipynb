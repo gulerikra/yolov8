{
  "nbformat": 4,
  "nbformat_minor": 0,
  "metadata": {
    "colab": {
      "provenance": []
    },
    "kernelspec": {
      "name": "python3",
      "display_name": "Python 3"
    },
    "language_info": {
      "name": "python"
    }
  },
  "cells": [
    {
      "cell_type": "code",
      "execution_count": null,
      "metadata": {
        "id": "sLgsYpP-Vj8m"
      },
      "outputs": [],
      "source": [
        "from google.colab import drive\n",
        "drive.mount('/content/drive') "
      ]
    },
    {
      "cell_type": "code",
      "source": [
        "!cd /content\n",
        "!unzip //content/data_set.zip #dataset zipten çıkarılır"
      ],
      "metadata": {
        "id": "YTiivKdKVo3R"
      },
      "execution_count": null,
      "outputs": []
    },
    {
      "cell_type": "code",
      "source": [
        "!pip install ultralytics\n",
        "!git clone https://github.com/ultralytics/ultralytics.git\n",
        "%cd /content/ultralytics"
      ],
      "metadata": {
        "id": "enQw1JCtV5kl"
      },
      "execution_count": null,
      "outputs": []
    },
    {
      "cell_type": "code",
      "source": [
        "!yolo mode=checks\n",
        "from ultralytics import YOLO\n",
        "from IPython.display import display, Image\n",
        "%cd /content/ultralytics"
      ],
      "metadata": {
        "id": "GBrad7RPV5q1"
      },
      "execution_count": null,
      "outputs": []
    },
    {
      "cell_type": "code",
      "source": [
        "!yolo task=detect mode=train model=yolov8x.pt data=/content/custom.yaml epochs=1000 imgsz=320 batch=4 optimizer=SGD lr0=0.01 device=0\n",
        "#epochs ve batch değerleri ayarlanır, imgsz=resmin boyutu(320,320), custom.yaml dosyasını yolu verilir"
      ],
      "metadata": {
        "id": "4biZBVPoV5te"
      },
      "execution_count": null,
      "outputs": []
    }
  ]
}
